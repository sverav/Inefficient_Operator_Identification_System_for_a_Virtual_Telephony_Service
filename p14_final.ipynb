{
 "cells": [
  {
   "cell_type": "markdown",
   "id": "e01be892",
   "metadata": {},
   "source": [
    "**DESCOMPOSICIÓN DE LA TAREA**"
   ]
  },
  {
   "cell_type": "markdown",
   "id": "1f4823d1",
   "metadata": {},
   "source": [
    "1- Objetivo principal: identificar los operadores telefónico que presentan bajo rendimiento mediante análisis cuantitativo de los datos presentados en los dataset\n",
    "\n",
    " Los principales interesados son los directivos de la empresa que pueden utilizar este análisis para la mejora de las métricas de negocio. Luego se debe considerar a la línea de supervisión y gerenacia,pues esto les permitirá conocer los operadores más ineficaces mediante el análisis cuantitativo de las características presentadas\n",
    "\n",
    " Se pueden tomar distintos tipos de decisiones basadas en el análisis que se realizará a continuación\n",
    " En primer lugar, se tienen las decisiones relativas a la gestión de personal: identificacion de operadores que requieren capacitación adicional, determinas necesidades de formación profesional para los operadores, evaluación de la idoneidad de los operadores para su función y determinas si es necesario un cambio en estas\n",
    " Luego existen decisiones basadas en las operaciones: redistribuir cargar de trabajo según las caoacidades de cada operador, ajustar horarios para optimizar cobertura, implementar programas de mejora específicos y establecer metas de rendimiento más específicas.\n",
    " Finalmente, existen decisiones estratégicas que pueden surgir de este estudio.Aquellas serían desarrollar programas de formación basados en deficiencias identificadas, crear sistemas de monitoreo continuo del desempeño, establecer políticas de RRHH basadas en datos reales y mejorar procesos de selección de nuevos operadores."
   ]
  },
  {
   "cell_type": "markdown",
   "id": "a57ffe8b",
   "metadata": {},
   "source": [
    "2- Hipótesis: Los operadores con mayor cantidad de llamadas perdidas tienen tiempos de espera significativamente más altos que los operadores con menor cantidad de llamadas perdidas.\n",
    "\n",
    "H0: no existe diferencia significativa en los tiempos de espera promedio entre operadores con alta y baja cantidad de llamadas perdidas\n",
    "\n",
    "Con esta hipótesis se podrá conectar directamente dos de los indicadores clave de ineficacia mencionados.Además, permite identificar si existe una relación causal o correlacional entre ambas métricas-Finalmente, ayuda también a entender si un problema (llamadas perdidas) está relacionado con otro (tiempos de espera).\n",
    "Si se confirma esta hipótesis, entonces los supervisores pueden enfocar la capacitación en gestión de tiempo y manejo de llamadas.Por otra parte, si se rechaza, entonces se sugiere que ambos problemas tienen causas independientes y requieren de estrategias diferentes.\n",
    "\n",
    "Se deben segmentar los operadores en dos grupos: uno de operadores comn alta cantidad de llamas perdidas (percentil 75 o superior) y otro de operadores con baja cantidad de llamadas perdidas (percentil 25 o inferior)"
   ]
  },
  {
   "cell_type": "markdown",
   "id": "903a3b12",
   "metadata": {},
   "source": [
    "**Preprocesamiento de datos**"
   ]
  },
  {
   "cell_type": "code",
   "execution_count": 1,
   "id": "5a3f77e8",
   "metadata": {},
   "outputs": [],
   "source": [
    "from scipy import stats as st\n",
    "import numpy as np\n",
    "import pandas as pd\n",
    "from datetime import datetime\n",
    "import matplotlib.pyplot as plt\n",
    "import seaborn as sns\n",
    "from scipy.stats import ttest_ind, levene, sem, t\n",
    "import warnings"
   ]
  },
  {
   "cell_type": "code",
   "execution_count": 2,
   "id": "96381f13",
   "metadata": {},
   "outputs": [],
   "source": [
    "calls = pd.read_csv(\"C:\\\\Users\\\\Stephania\\\\.vscode\\\\P14\\\\telecom_dataset_us.csv\", sep=',')\n",
    "clients = pd.read_csv(\"C:\\\\\\\\Users\\\\Stephania\\\\.vscode\\\\P14\\\\telecom_clients_us.csv\", sep=',')\n"
   ]
  },
  {
   "cell_type": "code",
   "execution_count": 3,
   "id": "5f39d0b9",
   "metadata": {},
   "outputs": [
    {
     "name": "stdout",
     "output_type": "stream",
     "text": [
      "<class 'pandas.core.frame.DataFrame'>\n",
      "RangeIndex: 53902 entries, 0 to 53901\n",
      "Data columns (total 9 columns):\n",
      " #   Column               Non-Null Count  Dtype  \n",
      "---  ------               --------------  -----  \n",
      " 0   user_id              53902 non-null  int64  \n",
      " 1   date                 53902 non-null  object \n",
      " 2   direction            53902 non-null  object \n",
      " 3   internal             53785 non-null  object \n",
      " 4   operator_id          45730 non-null  float64\n",
      " 5   is_missed_call       53902 non-null  bool   \n",
      " 6   calls_count          53902 non-null  int64  \n",
      " 7   call_duration        53902 non-null  int64  \n",
      " 8   total_call_duration  53902 non-null  int64  \n",
      "dtypes: bool(1), float64(1), int64(4), object(3)\n",
      "memory usage: 3.3+ MB\n",
      "None\n",
      "<class 'pandas.core.frame.DataFrame'>\n",
      "RangeIndex: 732 entries, 0 to 731\n",
      "Data columns (total 3 columns):\n",
      " #   Column       Non-Null Count  Dtype \n",
      "---  ------       --------------  ----- \n",
      " 0   user_id      732 non-null    int64 \n",
      " 1   tariff_plan  732 non-null    object\n",
      " 2   date_start   732 non-null    object\n",
      "dtypes: int64(1), object(2)\n",
      "memory usage: 17.3+ KB\n",
      "None\n"
     ]
    }
   ],
   "source": [
    "print(calls.info())\n",
    "print(clients.info())"
   ]
  },
  {
   "cell_type": "code",
   "execution_count": 4,
   "id": "b94cdc28",
   "metadata": {},
   "outputs": [
    {
     "data": {
      "text/html": [
       "<div>\n",
       "<style scoped>\n",
       "    .dataframe tbody tr th:only-of-type {\n",
       "        vertical-align: middle;\n",
       "    }\n",
       "\n",
       "    .dataframe tbody tr th {\n",
       "        vertical-align: top;\n",
       "    }\n",
       "\n",
       "    .dataframe thead th {\n",
       "        text-align: right;\n",
       "    }\n",
       "</style>\n",
       "<table border=\"1\" class=\"dataframe\">\n",
       "  <thead>\n",
       "    <tr style=\"text-align: right;\">\n",
       "      <th></th>\n",
       "      <th>user_id</th>\n",
       "      <th>date</th>\n",
       "      <th>direction</th>\n",
       "      <th>internal</th>\n",
       "      <th>operator_id</th>\n",
       "      <th>is_missed_call</th>\n",
       "      <th>calls_count</th>\n",
       "      <th>call_duration</th>\n",
       "      <th>total_call_duration</th>\n",
       "    </tr>\n",
       "  </thead>\n",
       "  <tbody>\n",
       "    <tr>\n",
       "      <th>0</th>\n",
       "      <td>166377</td>\n",
       "      <td>2019-08-04 00:00:00+03:00</td>\n",
       "      <td>in</td>\n",
       "      <td>False</td>\n",
       "      <td>NaN</td>\n",
       "      <td>True</td>\n",
       "      <td>2</td>\n",
       "      <td>0</td>\n",
       "      <td>4</td>\n",
       "    </tr>\n",
       "    <tr>\n",
       "      <th>1</th>\n",
       "      <td>166377</td>\n",
       "      <td>2019-08-05 00:00:00+03:00</td>\n",
       "      <td>out</td>\n",
       "      <td>True</td>\n",
       "      <td>880022.0</td>\n",
       "      <td>True</td>\n",
       "      <td>3</td>\n",
       "      <td>0</td>\n",
       "      <td>5</td>\n",
       "    </tr>\n",
       "    <tr>\n",
       "      <th>2</th>\n",
       "      <td>166377</td>\n",
       "      <td>2019-08-05 00:00:00+03:00</td>\n",
       "      <td>out</td>\n",
       "      <td>True</td>\n",
       "      <td>880020.0</td>\n",
       "      <td>True</td>\n",
       "      <td>1</td>\n",
       "      <td>0</td>\n",
       "      <td>1</td>\n",
       "    </tr>\n",
       "    <tr>\n",
       "      <th>3</th>\n",
       "      <td>166377</td>\n",
       "      <td>2019-08-05 00:00:00+03:00</td>\n",
       "      <td>out</td>\n",
       "      <td>True</td>\n",
       "      <td>880020.0</td>\n",
       "      <td>False</td>\n",
       "      <td>1</td>\n",
       "      <td>10</td>\n",
       "      <td>18</td>\n",
       "    </tr>\n",
       "    <tr>\n",
       "      <th>4</th>\n",
       "      <td>166377</td>\n",
       "      <td>2019-08-05 00:00:00+03:00</td>\n",
       "      <td>out</td>\n",
       "      <td>False</td>\n",
       "      <td>880022.0</td>\n",
       "      <td>True</td>\n",
       "      <td>3</td>\n",
       "      <td>0</td>\n",
       "      <td>25</td>\n",
       "    </tr>\n",
       "  </tbody>\n",
       "</table>\n",
       "</div>"
      ],
      "text/plain": [
       "   user_id                       date direction internal  operator_id  \\\n",
       "0   166377  2019-08-04 00:00:00+03:00        in    False          NaN   \n",
       "1   166377  2019-08-05 00:00:00+03:00       out     True     880022.0   \n",
       "2   166377  2019-08-05 00:00:00+03:00       out     True     880020.0   \n",
       "3   166377  2019-08-05 00:00:00+03:00       out     True     880020.0   \n",
       "4   166377  2019-08-05 00:00:00+03:00       out    False     880022.0   \n",
       "\n",
       "   is_missed_call  calls_count  call_duration  total_call_duration  \n",
       "0            True            2              0                    4  \n",
       "1            True            3              0                    5  \n",
       "2            True            1              0                    1  \n",
       "3           False            1             10                   18  \n",
       "4            True            3              0                   25  "
      ]
     },
     "metadata": {},
     "output_type": "display_data"
    },
    {
     "data": {
      "text/html": [
       "<div>\n",
       "<style scoped>\n",
       "    .dataframe tbody tr th:only-of-type {\n",
       "        vertical-align: middle;\n",
       "    }\n",
       "\n",
       "    .dataframe tbody tr th {\n",
       "        vertical-align: top;\n",
       "    }\n",
       "\n",
       "    .dataframe thead th {\n",
       "        text-align: right;\n",
       "    }\n",
       "</style>\n",
       "<table border=\"1\" class=\"dataframe\">\n",
       "  <thead>\n",
       "    <tr style=\"text-align: right;\">\n",
       "      <th></th>\n",
       "      <th>user_id</th>\n",
       "      <th>tariff_plan</th>\n",
       "      <th>date_start</th>\n",
       "    </tr>\n",
       "  </thead>\n",
       "  <tbody>\n",
       "    <tr>\n",
       "      <th>0</th>\n",
       "      <td>166713</td>\n",
       "      <td>A</td>\n",
       "      <td>2019-08-15</td>\n",
       "    </tr>\n",
       "    <tr>\n",
       "      <th>1</th>\n",
       "      <td>166901</td>\n",
       "      <td>A</td>\n",
       "      <td>2019-08-23</td>\n",
       "    </tr>\n",
       "    <tr>\n",
       "      <th>2</th>\n",
       "      <td>168527</td>\n",
       "      <td>A</td>\n",
       "      <td>2019-10-29</td>\n",
       "    </tr>\n",
       "    <tr>\n",
       "      <th>3</th>\n",
       "      <td>167097</td>\n",
       "      <td>A</td>\n",
       "      <td>2019-09-01</td>\n",
       "    </tr>\n",
       "    <tr>\n",
       "      <th>4</th>\n",
       "      <td>168193</td>\n",
       "      <td>A</td>\n",
       "      <td>2019-10-16</td>\n",
       "    </tr>\n",
       "  </tbody>\n",
       "</table>\n",
       "</div>"
      ],
      "text/plain": [
       "   user_id tariff_plan  date_start\n",
       "0   166713           A  2019-08-15\n",
       "1   166901           A  2019-08-23\n",
       "2   168527           A  2019-10-29\n",
       "3   167097           A  2019-09-01\n",
       "4   168193           A  2019-10-16"
      ]
     },
     "metadata": {},
     "output_type": "display_data"
    }
   ],
   "source": [
    "display(calls.head())\n",
    "display(clients.head())\n"
   ]
  },
  {
   "cell_type": "code",
   "execution_count": 5,
   "id": "9af81711",
   "metadata": {},
   "outputs": [],
   "source": [
    "calls['date'] = pd.to_datetime(calls['date'])\n",
    "clients['date_start'] = pd.to_datetime(clients['date_start'])\n",
    "\n",
    "if 'is_missed_call' in calls.columns:\n",
    " calls['is_missed_call'] = calls['is_missed_call'].astype(bool)"
   ]
  },
  {
   "cell_type": "code",
   "execution_count": 6,
   "id": "2d2a768d",
   "metadata": {},
   "outputs": [
    {
     "name": "stdout",
     "output_type": "stream",
     "text": [
      "\n",
      " Verificación de valores faltantes en calls\n",
      "user_id                   0\n",
      "date                      0\n",
      "direction                 0\n",
      "internal                117\n",
      "operator_id            8172\n",
      "is_missed_call            0\n",
      "calls_count               0\n",
      "call_duration             0\n",
      "total_call_duration       0\n",
      "dtype: int64\n",
      "\n",
      " Verificación de valores faltantes en clients\n",
      "user_id        0\n",
      "tariff_plan    0\n",
      "date_start     0\n",
      "dtype: int64\n"
     ]
    }
   ],
   "source": [
    " # se identifican valores faltantes\n",
    "print(\"\\n Verificación de valores faltantes en calls\")\n",
    "missing_calls = calls.isnull().sum()\n",
    "print(missing_calls)\n",
    "\n",
    "print(\"\\n Verificación de valores faltantes en clients\")\n",
    "missing_clients = clients.isnull().sum()\n",
    "print(missing_clients)"
   ]
  },
  {
   "cell_type": "markdown",
   "id": "342c4c2c",
   "metadata": {},
   "source": [
    "Se observan valores nulos en las columnas internal y operator_id, por lo que se eliminan estás filas, obteniendo un nuevo dataset sin estos datos"
   ]
  },
  {
   "cell_type": "code",
   "execution_count": 7,
   "id": "b9ad8e6d",
   "metadata": {},
   "outputs": [
    {
     "name": "stdout",
     "output_type": "stream",
     "text": [
      "<class 'pandas.core.frame.DataFrame'>\n",
      "Index: 45670 entries, 1 to 53900\n",
      "Data columns (total 9 columns):\n",
      " #   Column               Non-Null Count  Dtype                    \n",
      "---  ------               --------------  -----                    \n",
      " 0   user_id              45670 non-null  int64                    \n",
      " 1   date                 45670 non-null  datetime64[ns, UTC+03:00]\n",
      " 2   direction            45670 non-null  object                   \n",
      " 3   internal             45670 non-null  object                   \n",
      " 4   operator_id          45670 non-null  float64                  \n",
      " 5   is_missed_call       45670 non-null  bool                     \n",
      " 6   calls_count          45670 non-null  int64                    \n",
      " 7   call_duration        45670 non-null  int64                    \n",
      " 8   total_call_duration  45670 non-null  int64                    \n",
      "dtypes: bool(1), datetime64[ns, UTC+03:00](1), float64(1), int64(4), object(2)\n",
      "memory usage: 3.2+ MB\n",
      "None\n"
     ]
    }
   ],
   "source": [
    "#se eliminan filas con datos nulos\n",
    "calls = calls.dropna()\n",
    "\n",
    "print(calls.info())"
   ]
  },
  {
   "cell_type": "code",
   "execution_count": 8,
   "id": "80d9cd63",
   "metadata": {},
   "outputs": [
    {
     "name": "stdout",
     "output_type": "stream",
     "text": [
      "Datasets unidos: 45,670 registros\n"
     ]
    }
   ],
   "source": [
    "#se unen ambos datasets \n",
    "merged = calls.merge(clients, on='user_id', how='inner')\n",
    "\n",
    "merged.to_csv('merged.csv', index=False, encoding='utf-8-sig')\n",
    "print(f\"Datasets unidos: {merged.shape[0]:,} registros\")"
   ]
  },
  {
   "cell_type": "code",
   "execution_count": 9,
   "id": "e4020f42",
   "metadata": {},
   "outputs": [
    {
     "name": "stdout",
     "output_type": "stream",
     "text": [
      "\n",
      " FILTRADO POR DIRECCIÓN DE LA LLAMADA\n",
      "Registros antes del filtro: 45670\n",
      "Registros después del filtro: 13953\n",
      "Porcentaje de llamadas entrantes: 30.55%\n"
     ]
    }
   ],
   "source": [
    "# filtrado de llamadas entrantes\n",
    "\n",
    "print(\"\\n FILTRADO POR DIRECCIÓN DE LA LLAMADA\")\n",
    "print(f\"Registros antes del filtro: {len(merged)}\")\n",
    "\n",
    "# Filtrar solo llamadas entrantes\n",
    "incoming = merged[merged['direction'] == 'in'].copy()\n",
    "\n",
    "print(f\"Registros después del filtro: {len(incoming)}\")\n",
    "print(f\"Porcentaje de llamadas entrantes: {len(incoming)/len(merged)*100:.2f}%\")"
   ]
  },
  {
   "cell_type": "code",
   "execution_count": 10,
   "id": "0013dcb3",
   "metadata": {},
   "outputs": [
    {
     "name": "stdout",
     "output_type": "stream",
     "text": [
      "\n",
      " VERIFICACIÓN DE DURACION DE LLAMADAS \n",
      "\n",
      "Estadísticas de call_duration:\n",
      "count    13953.000000\n",
      "mean       753.200960\n",
      "std       1485.243012\n",
      "min          0.000000\n",
      "25%         66.000000\n",
      "50%        262.000000\n",
      "75%        848.000000\n",
      "max      33897.000000\n",
      "Name: call_duration, dtype: float64\n",
      "\n",
      "Estadísticas de total_call_duration:\n",
      "count    13953.000000\n",
      "mean       850.779044\n",
      "std       1597.942776\n",
      "min          1.000000\n",
      "25%         93.000000\n",
      "50%        308.000000\n",
      "75%        954.000000\n",
      "max      34280.000000\n",
      "Name: total_call_duration, dtype: float64\n",
      "\n",
      "Registros inconsistentes (total_call_duration < call_duration): 0\n",
      "Porcentaje de registros inconsistentes: 0.00%\n",
      "\n",
      "Registros después de eliminar inconsistencias: 13953\n",
      "Registros eliminados: 0\n"
     ]
    }
   ],
   "source": [
    "print(\"\\n VERIFICACIÓN DE DURACION DE LLAMADAS \")\n",
    "\n",
    "# verificaión que total_call_duration >= call_duration\n",
    "# Estadísticas básicas antes de la validación\n",
    "print(\"\\nEstadísticas de call_duration:\")\n",
    "print(incoming['call_duration'].describe())\n",
    "\n",
    "print(\"\\nEstadísticas de total_call_duration:\")\n",
    "print(incoming['total_call_duration'].describe())\n",
    "\n",
    "# Identificar registros donde total_call_duration < call_duration (inconsistentes)\n",
    "inconsistent_mask = incoming['total_call_duration'] < incoming['call_duration']\n",
    "inconsistent_records = incoming[inconsistent_mask]\n",
    "\n",
    "print(f\"\\nRegistros inconsistentes (total_call_duration < call_duration): {len(inconsistent_records)}\")\n",
    "print(f\"Porcentaje de registros inconsistentes: {len(inconsistent_records)/len(incoming)*100:.2f}%\")\n",
    "\n",
    "if len(inconsistent_records) > 0:\n",
    "    print(\"\\nMuestra de registros inconsistentes:\")\n",
    "    print(inconsistent_records[['call_duration', 'total_call_duration', 'operator_id', 'date']].head(10))\n",
    "    \n",
    "    print(\"\\nEstadísticas de registros inconsistentes:\")\n",
    "    print(\"call_duration:\")\n",
    "    print(inconsistent_records['call_duration'].describe())\n",
    "    print(\"total_call_duration:\")\n",
    "    print(inconsistent_records['total_call_duration'].describe())\n",
    "\n",
    "# Crear dataset filtrado (solo registros consistentes)\n",
    "filtered = incoming[~inconsistent_mask].copy()\n",
    "\n",
    "print(f\"\\nRegistros después de eliminar inconsistencias: {len(filtered)}\")\n",
    "print(f\"Registros eliminados: {len(incoming) - len(filtered)}\")"
   ]
  },
  {
   "cell_type": "code",
   "execution_count": 11,
   "id": "57c626b9",
   "metadata": {},
   "outputs": [
    {
     "name": "stdout",
     "output_type": "stream",
     "text": [
      "Estadísticas del tiempo de espera:\n",
      "count    13953.000000\n",
      "mean        97.578084\n",
      "std        185.023660\n",
      "min          0.000000\n",
      "25%         17.000000\n",
      "50%         38.000000\n",
      "75%         98.000000\n",
      "max       3998.000000\n",
      "Name: waiting_time, dtype: float64\n",
      "\n",
      "Registros con tiempo de espera negativo: 0\n"
     ]
    }
   ],
   "source": [
    "\n",
    "# Calcular tiempo de espera\n",
    "filtered['waiting_time'] = filtered['total_call_duration'] - filtered['call_duration']\n",
    "\n",
    "print(\"Estadísticas del tiempo de espera:\")\n",
    "print(filtered['waiting_time'].describe())\n",
    "\n",
    "# Verificar que no hay tiempos de espera negativos\n",
    "negative_waiting = filtered[filtered['waiting_time'] < 0]\n",
    "print(f\"\\nRegistros con tiempo de espera negativo: {len(negative_waiting)}\")\n",
    "\n",
    "if len(negative_waiting) > 0:\n",
    "    print(\" Hay tiempos de espera negativos. Esto indica un problema en los datos.\")\n",
    "    print(negative_waiting[['call_duration', 'total_call_duration', 'waiting_time']].head())\n"
   ]
  },
  {
   "cell_type": "code",
   "execution_count": 12,
   "id": "27822367",
   "metadata": {},
   "outputs": [
    {
     "name": "stdout",
     "output_type": "stream",
     "text": [
      "\n",
      " RESUMEN FINAL DEL PROCESAMIENTO\n",
      "Dataset original: 45,670 registros\n",
      "Después de filtrar llamadas entrantes: 13,953 registros\n",
      "Después de eliminar inconsistencias: 13,953 registros\n",
      "Registros finales válidos: 13,953\n",
      "\n",
      "Porcentaje de datos utilizables: 30.55%\n"
     ]
    }
   ],
   "source": [
    "print(\"\\n RESUMEN FINAL DEL PROCESAMIENTO\")\n",
    "print(f\"Dataset original: {len(merged):,} registros\")\n",
    "print(f\"Después de filtrar llamadas entrantes: {len(incoming):,} registros\")\n",
    "print(f\"Después de eliminar inconsistencias: {len(filtered):,} registros\")\n",
    "print(f\"Registros finales válidos: {len(filtered):,}\")\n",
    "\n",
    "print(f\"\\nPorcentaje de datos utilizables: {len(filtered)/len(merged)*100:.2f}%\")"
   ]
  },
  {
   "cell_type": "code",
   "execution_count": null,
   "id": "33579044",
   "metadata": {},
   "outputs": [
    {
     "data": {
      "image/png": "[encoded data removed]",
      "text/plain": [
       "<Figure size 800x500 with 1 Axes>"
      ]
     },
     "metadata": {},
     "output_type": "display_data"
    }
   ],
   "source": [
    "\n",
    "fig, axes = plt.subplots(1, 1, figsize=(8, 5))\n",
    "\n",
    "# Graficar histograma de tiempos de espera\n",
    "axes.hist(filtered['waiting_time'], bins=50, alpha=0.7, color='skyblue')\n",
    "axes.set_title('Distribución de Tiempos de Espera')\n",
    "axes.set_xlabel('Tiempo de Espera')\n",
    "axes.set_ylabel('Frecuencia')\n",
    "\n",
    "# Mostrar gráfico\n",
    "plt.show()\n",
    "\n",
    "\n"
   ]
  },
  {
   "cell_type": "markdown",
   "id": "491f928b",
   "metadata": {},
   "source": [
    "Se observa una asimetría hacia la izquierda, lo que significa que no son  muchos los usuarios que deban pasar por largos tiempos de espera.\n"
   ]
  },
  {
   "cell_type": "code",
   "execution_count": null,
   "id": "8f6a1064",
   "metadata": {},
   "outputs": [
    {
     "data": {
      "image/png": "[encoded data removed]",
      "text/plain": [
       "<Figure size 800x500 with 1 Axes>"
      ]
     },
     "metadata": {},
     "output_type": "display_data"
    }
   ],
   "source": [
    "# boxplot de distribución de tiempos de espera\n",
    "plt.figure(figsize=(8, 5))\n",
    "plt.boxplot(filtered['waiting_time'])\n",
    "plt.title('Boxplot de Tiempos de Espera')\n",
    "plt.ylabel('Tiempo de Espera')\n",
    "plt.show()"
   ]
  },
  {
   "cell_type": "markdown",
   "id": "ad7a2a5f",
   "metadata": {},
   "source": [
    "No se observan  muchos valores atípicos, esto indica que no existe una gran cantidad de usuarios que experimenten esperas significativamente diferentes (altas) al resto."
   ]
  },
  {
   "cell_type": "code",
   "execution_count": 29,
   "id": "2f2405f5",
   "metadata": {},
   "outputs": [
    {
     "data": {
      "image/png": "[encoded data removed]",
      "text/plain": [
       "<Figure size 800x500 with 1 Axes>"
      ]
     },
     "metadata": {},
     "output_type": "display_data"
    }
   ],
   "source": [
    "# 3. Scatter plot: call_duration vs total_call_duration\n",
    "sample_data = filtered.sample(min(5000, len(filtered)))\n",
    "\n",
    "plt.figure(figsize=(8, 5))\n",
    "plt.scatter(sample_data['call_duration'], sample_data['total_call_duration'], alpha=0.5, s=1)\n",
    "plt.plot([0, sample_data['call_duration'].max()],\n",
    "         [0, sample_data['call_duration'].max()], 'r--', label='Línea y=x')\n",
    "plt.title('Call Duration vs Total Call Duration')\n",
    "plt.xlabel('Call Duration')\n",
    "plt.ylabel('Total Call Duration')\n",
    "plt.legend()\n",
    "plt.show()"
   ]
  },
  {
   "cell_type": "markdown",
   "id": "11f884c3",
   "metadata": {},
   "source": [
    "Este gráfico permite visualizar la relación entre la duración de una llamada y la duración total de las llamadas incluyendo el tiempo de espera para cada registro.En este caso, la mayoría de los puntos se alinean cerca de la línea y=x lo que  indica que, para muchos registros, la duración de la llamada individual es similar a la duración total registrada, lo que indica que en general los tiempos de espera son bajos.Aún asi, se observan algunos puntos más lejanos a la línea continua, lo que indica mayores tiempos de espera."
   ]
  },
  {
   "cell_type": "code",
   "execution_count": null,
   "id": "10a7a1b8",
   "metadata": {},
   "outputs": [
    {
     "data": {
      "image/png": "[encoded data removed]",
      "text/plain": [
       "<Figure size 800x500 with 1 Axes>"
      ]
     },
     "metadata": {},
     "output_type": "display_data"
    }
   ],
   "source": [
    "\n",
    "# distribución del tiempo de espera (se utiliza escala logaritimica pues hay valores muy grandes)\n",
    "plt.figure(figsize=(8, 5))\n",
    "\n",
    "if filtered['waiting_time'].max() > 1000:\n",
    "    plt.hist(np.log1p(filtered['waiting_time']), bins=50, alpha=0.7, color='lightcoral')\n",
    "    plt.title('Distribución de Log(Tiempo de Espera + 1)')\n",
    "    plt.xlabel('Log(Tiempo de Espera + 1)')\n",
    "else:\n",
    "    plt.hist(filtered['waiting_time'], bins=50, alpha=0.7, color='lightcoral')\n",
    "    plt.title('Distribución de Tiempos de Espera (detalle)')\n",
    "    plt.xlabel('Tiempo de Espera')\n",
    "\n",
    "plt.ylabel('Frecuencia')\n",
    "plt.tight_layout()\n",
    "plt.show()"
   ]
  },
  {
   "cell_type": "markdown",
   "id": "08f4698b",
   "metadata": {},
   "source": [
    "Se utilizó escala logarítima pues los valores de 'waiting_time' eran muy altos y esto podría provocar una distorsión de la visualización y se podría ver lineal.Por esto es que con escala logarítimica los valores extremos se comprimen facilitando la identificación de patrones y distribución general de los datos.\n",
    "Para este caso, se observa que en general existen pocos picos de frecuencia respecto a los tiempos de espera más altos, lo que significa poca ocurrencia de largos tiempos de espera. De hecho, a medida que los tiempos de espera con más elevados, la frecuencia de ocurrencia de estos va disminuyendo."
   ]
  },
  {
   "cell_type": "markdown",
   "id": "198eb504",
   "metadata": {},
   "source": [
    "Con todo el pre procesamiento y análisis exploratorio de datos realizados, se deben comenzar a segmentar los datos para reañizar la prueba de hipótesis: en primer lugar se realiza un análisis por operador, obteniendo la estadística de las llamadas perdidas de estos.Luego se segamentan estos entre aquellos que presentan alta tasa de llamadas perdidas y aquellos que presentan tasas más bajas"
   ]
  },
  {
   "cell_type": "code",
   "execution_count": 17,
   "id": "d1898e83",
   "metadata": {},
   "outputs": [
    {
     "name": "stdout",
     "output_type": "stream",
     "text": [
      "PRUEBA DE HIPÓTESIS: TIEMPOS DE ESPERA VS LLAMADAS PERDIDAS\n",
      "H0: No existe diferencia significativa en los tiempos de espera promedio\n",
      "    entre operadores con alta y baja cantidad de llamadas perdidas\n",
      "H1: Existe diferencia significativa en los tiempos de espera promedio\n",
      "    entre operadores con alta y baja cantidad de llamadas perdidas\n"
     ]
    }
   ],
   "source": [
    "print(\"PRUEBA DE HIPÓTESIS: TIEMPOS DE ESPERA VS LLAMADAS PERDIDAS\")\n",
    "print(\"H0: No existe diferencia significativa en los tiempos de espera promedio\")\n",
    "print(\"    entre operadores con alta y baja cantidad de llamadas perdidas\")\n",
    "print(\"H1: Existe diferencia significativa en los tiempos de espera promedio\")\n",
    "print(\"    entre operadores con alta y baja cantidad de llamadas perdidas\")\n"
   ]
  },
  {
   "cell_type": "code",
   "execution_count": 18,
   "id": "974ecb3c",
   "metadata": {},
   "outputs": [
    {
     "name": "stdout",
     "output_type": "stream",
     "text": [
      "\n",
      " ANÁLISIS POR OPERADOR\n",
      "Operadores totales: 754\n",
      "Operadores con ≥30 llamadas: 174\n",
      "\n",
      "Estadísticas de tasa de llamadas perdidas:\n",
      "count    174.000000\n",
      "mean       0.058547\n",
      "std        0.075360\n",
      "min        0.000000\n",
      "25%        0.000000\n",
      "50%        0.031250\n",
      "75%        0.076923\n",
      "max        0.375000\n",
      "Name: missed_call_rate, dtype: float64\n",
      "\n",
      "Estadísticas de tiempo de espera promedio:\n",
      "count     174.000000\n",
      "mean      111.578701\n",
      "std       145.310043\n",
      "min         2.618000\n",
      "25%        38.261500\n",
      "50%        59.961500\n",
      "75%       120.875500\n",
      "max      1039.541000\n",
      "Name: avg_waiting_time, dtype: float64\n"
     ]
    }
   ],
   "source": [
    "print(\"\\n ANÁLISIS POR OPERADOR\")\n",
    "\n",
    "# Agrupar por operador y calcular métricas\n",
    "operator_stats = filtered.groupby('operator_id').agg({\n",
    "    'is_missed_call': ['sum', 'count'],\n",
    "    'waiting_time': ['mean', 'std', 'count'],\n",
    "    'calls_count': 'sum'\n",
    "}).round(3)\n",
    "\n",
    "# Aplanar nombres de columnas\n",
    "operator_stats.columns = ['missed_calls_total', 'total_calls', 'avg_waiting_time', \n",
    "                         'std_waiting_time', 'waiting_records', 'total_call_count']\n",
    "\n",
    "# Calcular tasa de llamadas perdidas\n",
    "operator_stats['missed_call_rate'] = operator_stats['missed_calls_total'] / operator_stats['total_calls']\n",
    "\n",
    "# Filtrar operadores con suficientes datos (al menos 30 llamadas)\n",
    "min_calls = 30\n",
    "operator_stats_filtered = operator_stats[operator_stats['total_calls'] >= min_calls].copy()\n",
    "\n",
    "print(f\"Operadores totales: {len(operator_stats)}\")\n",
    "print(f\"Operadores con ≥{min_calls} llamadas: {len(operator_stats_filtered)}\")\n",
    "\n",
    "print(\"\\nEstadísticas de tasa de llamadas perdidas:\")\n",
    "print(operator_stats_filtered['missed_call_rate'].describe())\n",
    "\n",
    "print(\"\\nEstadísticas de tiempo de espera promedio:\")\n",
    "print(operator_stats_filtered['avg_waiting_time'].describe())\n"
   ]
  },
  {
   "cell_type": "code",
   "execution_count": 19,
   "id": "e0a058f3",
   "metadata": {},
   "outputs": [
    {
     "name": "stdout",
     "output_type": "stream",
     "text": [
      "\n",
      " CLASIFICACIÓN DE OPERADORES \n",
      "Q1 (25%): 0.0000\n",
      "Mediana (50%): 0.0312\n",
      "Q3 (75%): 0.0769\n",
      "\n",
      "Operadores con ALTA tasa de llamadas perdidas (≥Q3): 45\n",
      "Operadores con BAJA tasa de llamadas perdidas (≤Q1): 49\n",
      "\n",
      "Ejemplos de operadores con alta tasa:\n",
      "             missed_call_rate  avg_waiting_time  total_calls\n",
      "operator_id                                                 \n",
      "882684.0             0.076923           191.731           52\n",
      "885876.0             0.203883           101.942          103\n",
      "885890.0             0.213592           120.340          103\n",
      "893804.0             0.094828           116.397          116\n",
      "901880.0             0.084034            90.403          119\n",
      "\n",
      "Ejemplos de operadores con baja tasa:\n",
      "             missed_call_rate  avg_waiting_time  total_calls\n",
      "operator_id                                                 \n",
      "879898.0                  0.0            28.540           63\n",
      "880028.0                  0.0             8.844           45\n",
      "883942.0                  0.0            15.571           42\n",
      "889410.0                  0.0            34.093           86\n",
      "890402.0                  0.0            76.120           75\n"
     ]
    }
   ],
   "source": [
    "print(\"\\n CLASIFICACIÓN DE OPERADORES \")\n",
    "\n",
    "# Método 1: Por cuartiles (más restrictivo)\n",
    "q75 = operator_stats_filtered['missed_call_rate'].quantile(0.75)\n",
    "q25 = operator_stats_filtered['missed_call_rate'].quantile(0.25)\n",
    "median = operator_stats_filtered['missed_call_rate'].median()\n",
    "\n",
    "print(f\"Q1 (25%): {q25:.4f}\")\n",
    "print(f\"Mediana (50%): {median:.4f}\")\n",
    "print(f\"Q3 (75%): {q75:.4f}\")\n",
    "\n",
    "# Clasificar operadores\n",
    "high_missed_ops = operator_stats_filtered[operator_stats_filtered['missed_call_rate'] >= q75].index.tolist()\n",
    "low_missed_ops = operator_stats_filtered[operator_stats_filtered['missed_call_rate'] <= q25].index.tolist()\n",
    "\n",
    "print(f\"\\nOperadores con ALTA tasa de llamadas perdidas (≥Q3): {len(high_missed_ops)}\")\n",
    "print(f\"Operadores con BAJA tasa de llamadas perdidas (≤Q1): {len(low_missed_ops)}\")\n",
    "\n",
    "# Mostrar ejemplos\n",
    "print(f\"\\nEjemplos de operadores con alta tasa:\")\n",
    "high_examples = operator_stats_filtered.loc[high_missed_ops, ['missed_call_rate', 'avg_waiting_time', 'total_calls']].head()\n",
    "print(high_examples)\n",
    "\n",
    "print(f\"\\nEjemplos de operadores con baja tasa:\")\n",
    "low_examples = operator_stats_filtered.loc[low_missed_ops, ['missed_call_rate', 'avg_waiting_time', 'total_calls']].head()\n",
    "print(low_examples)"
   ]
  },
  {
   "cell_type": "markdown",
   "id": "8fa43fa9",
   "metadata": {},
   "source": [
    "Respecto de las métricas elegidas, se eligen por las sigueintes razones: representatividad y robustez, suficiencia de datos, relevancia operacional y justificacions del umbral. \n",
    "Para poder comparar los tiempos de espera entre operadores que son eficientes e ineficientes, se clasifican en función de la tasa de llamadas perdidas utilizando cuartiles de la distribución. Los que se encuentran en el cuartil superior, son considerados de alta tasa de llamadas perdidas, mientras que por otro lado, los del cuartil inferior se clasificaron con baja tasa.\n",
    "Esto permite comparar grupos con diferencias marcadas de desempeño, asegurando la validez y relevancia de la prueba de hipótesis.Además, solo se incluyeorn operadores con al menos 30 llamadas, pues esto asegura la robustez de las métricas calculadas."
   ]
  },
  {
   "cell_type": "code",
   "execution_count": 20,
   "id": "e3e6d6db",
   "metadata": {},
   "outputs": [
    {
     "name": "stdout",
     "output_type": "stream",
     "text": [
      "\n",
      " EXTRACCIÓN DE MUESTRAS\n",
      "Muestra grupo ALTA tasa: 2,457 observaciones\n",
      "Muestra grupo BAJA tasa: 2,121 observaciones\n",
      "\n",
      "Estadísticas descriptivas:\n",
      "Grupo ALTA tasa:\n",
      "  Media: 192.885\n",
      "  Mediana: 108.000\n",
      "  Desv. Est.: 261.553\n",
      "Grupo BAJA tasa:\n",
      "  Media: 80.402\n",
      "  Mediana: 32.000\n",
      "  Desv. Est.: 191.470\n",
      "\n",
      "Diferencia de medias: 112.484\n"
     ]
    }
   ],
   "source": [
    "print(\"\\n EXTRACCIÓN DE MUESTRAS\")\n",
    "\n",
    "# Extraer tiempos de espera para cada grupo\n",
    "waiting_times_high = filtered[filtered['operator_id'].isin(high_missed_ops)]['waiting_time'].dropna()\n",
    "waiting_times_low = filtered[filtered['operator_id'].isin(low_missed_ops)]['waiting_time'].dropna()\n",
    "\n",
    "print(f\"Muestra grupo ALTA tasa: {len(waiting_times_high):,} observaciones\")\n",
    "print(f\"Muestra grupo BAJA tasa: {len(waiting_times_low):,} observaciones\")\n",
    "\n",
    "# Estadísticas descriptivas\n",
    "print(f\"\\nEstadísticas descriptivas:\")\n",
    "print(f\"Grupo ALTA tasa:\")\n",
    "print(f\"  Media: {waiting_times_high.mean():.3f}\")\n",
    "print(f\"  Mediana: {waiting_times_high.median():.3f}\")\n",
    "print(f\"  Desv. Est.: {waiting_times_high.std():.3f}\")\n",
    "\n",
    "print(f\"Grupo BAJA tasa:\")\n",
    "print(f\"  Media: {waiting_times_low.mean():.3f}\")\n",
    "print(f\"  Mediana: {waiting_times_low.median():.3f}\")\n",
    "print(f\"  Desv. Est.: {waiting_times_low.std():.3f}\")\n",
    "\n",
    "print(f\"\\nDiferencia de medias: {waiting_times_high.mean() - waiting_times_low.mean():.3f}\")"
   ]
  },
  {
   "cell_type": "code",
   "execution_count": 21,
   "id": "e6d034d1",
   "metadata": {},
   "outputs": [
    {
     "name": "stdout",
     "output_type": "stream",
     "text": [
      "\n",
      " VERIFICACIÓN DE SUPUESTOS PARA T-TEST \n",
      "5.1 Test de homogeneidad de varianzas (Levene):\n",
      "Estadístico de Levene: 200.6142\n",
      "P-valor: 0.000000\n",
      "Varianzas iguales (α=0.05): False\n",
      "→ No se asume homogeneidad de varianzas (usar Welch's t-test)\n",
      "\n",
      "5.2 Evaluación del Teorema Central del Límite:\n",
      "Tamaño muestra grupo ALTA: 2,457\n",
      "Tamaño muestra grupo BAJA: 2,121\n",
      "Muestras grandes (n≥30): True\n",
      "→ Por TCL, se puede asumir normalidad aproximada de las medias muestrales\n"
     ]
    }
   ],
   "source": [
    "\n",
    "print(\"\\n VERIFICACIÓN DE SUPUESTOS PARA T-TEST \")\n",
    "\n",
    "# 5.1 Test de homogeneidad de varianzas (Levene)\n",
    "print(\"5.1 Test de homogeneidad de varianzas (Levene):\")\n",
    "stat_levene, p_levene = levene(waiting_times_high, waiting_times_low)\n",
    "print(f\"Estadístico de Levene: {stat_levene:.4f}\")\n",
    "print(f\"P-valor: {p_levene:.6f}\")\n",
    "\n",
    "alpha = 0.05\n",
    "equal_variances = p_levene > alpha\n",
    "print(f\"Varianzas iguales (α={alpha}): {equal_variances}\")\n",
    "\n",
    "if equal_variances:\n",
    "    print(\"→ Se asume homogeneidad de varianzas (usar t-test estándar)\")\n",
    "else:\n",
    "    print(\"→ No se asume homogeneidad de varianzas (usar Welch's t-test)\")\n",
    "\n",
    "# 5.2 Información sobre el tamaño de muestra (para TCL)\n",
    "print(f\"\\n5.2 Evaluación del Teorema Central del Límite:\")\n",
    "print(f\"Tamaño muestra grupo ALTA: {len(waiting_times_high):,}\")\n",
    "print(f\"Tamaño muestra grupo BAJA: {len(waiting_times_low):,}\")\n",
    "\n",
    "large_samples = len(waiting_times_high) >= 30 and len(waiting_times_low) >= 30\n",
    "print(f\"Muestras grandes (n≥30): {large_samples}\")\n",
    "\n",
    "if large_samples:\n",
    "    print(\"→ Por TCL, se puede asumir normalidad aproximada de las medias muestrales\")\n",
    "else:\n",
    "    print(\"→ Muestras pequeñas, requiere verificación estricta de normalidad\")\n",
    "\n",
    "\n",
    "\n",
    "\n",
    "\n",
    "\n",
    "\n"
   ]
  },
  {
   "cell_type": "code",
   "execution_count": 22,
   "id": "b09be425",
   "metadata": {},
   "outputs": [
    {
     "name": "stdout",
     "output_type": "stream",
     "text": [
      "\n",
      " APLICACIÓN DE LA PRUEBA T \n",
      "Tipo de test: Welch's t-test (varianzas diferentes)\n",
      "Estadístico t: 16.7443\n",
      "Grados de libertad: 4460.4\n",
      "P-valor: 0.0000000000\n"
     ]
    }
   ],
   "source": [
    "print(\"\\n APLICACIÓN DE LA PRUEBA T \")\n",
    "\n",
    "# Decidir qué tipo de t-test usar\n",
    "if equal_variances:\n",
    "    test_type = \"T-test independiente (varianzas iguales)\"\n",
    "    t_stat, p_value = ttest_ind(waiting_times_high, waiting_times_low, equal_var=True)\n",
    "    # Grados de libertad para t-test estándar\n",
    "    df = len(waiting_times_high) + len(waiting_times_low) - 2\n",
    "else:\n",
    "    test_type = \"Welch's t-test (varianzas diferentes)\"\n",
    "    t_stat, p_value = ttest_ind(waiting_times_high, waiting_times_low, equal_var=False)\n",
    "    # Grados de libertad para Welch's t-test\n",
    "    s1_sq = waiting_times_high.var()\n",
    "    s2_sq = waiting_times_low.var()\n",
    "    n1, n2 = len(waiting_times_high), len(waiting_times_low)\n",
    "    df = (s1_sq/n1 + s2_sq/n2)**2 / ((s1_sq/n1)**2/(n1-1) + (s2_sq/n2)**2/(n2-1))\n",
    "\n",
    "print(f\"Tipo de test: {test_type}\")\n",
    "print(f\"Estadístico t: {t_stat:.4f}\")\n",
    "print(f\"Grados de libertad: {df:.1f}\")\n",
    "print(f\"P-valor: {p_value:.10f}\")"
   ]
  },
  {
   "cell_type": "code",
   "execution_count": 23,
   "id": "91b79294",
   "metadata": {},
   "outputs": [
    {
     "name": "stdout",
     "output_type": "stream",
     "text": [
      "Nivel de significancia: α = 0.05\n",
      "P-valor: 0.000000\n",
      "Valor crítico t (α/2, df): ±1.9605\n",
      "Estadístico t observado: 16.7443\n",
      "\n",
      "Criterio de decisión:\n",
      "  Si |t| > t_crítico o p-valor < α → Rechazar H0\n",
      "  |16.7443| > 1.9605 → True\n",
      "  0.000000 < 0.05 → True\n",
      "\n",
      "DECISIÓN: RECHAZAR H0\n",
      "\n",
      "CONCLUSIÓN:\n",
      "Existe evidencia estadísticamente significativa (p=0.000000) de que\n",
      "los operadores con ALTA tasa de llamadas perdidas tienen un tiempo de\n",
      "espera promedio significativamente MAYOR que los operadores con\n",
      "BAJA tasa de llamadas perdidas.\n"
     ]
    }
   ],
   "source": [
    "alpha = 0.05\n",
    "reject_h0 = p_value < alpha\n",
    "\n",
    "print(f\"Nivel de significancia: α = {alpha}\")\n",
    "print(f\"P-valor: {p_value:.6f}\")\n",
    "print(f\"Valor crítico t (α/2, df): ±{t.ppf(1-alpha/2, df):.4f}\")\n",
    "print(f\"Estadístico t observado: {t_stat:.4f}\")\n",
    "\n",
    "print(f\"\\nCriterio de decisión:\")\n",
    "print(f\"  Si |t| > t_crítico o p-valor < α → Rechazar H0\")\n",
    "print(f\"  |{t_stat:.4f}| > {t.ppf(1-alpha/2, df):.4f} → {abs(t_stat) > t.ppf(1-alpha/2, df)}\")\n",
    "print(f\"  {p_value:.6f} < {alpha} → {reject_h0}\")\n",
    "\n",
    "print(f\"\\nDECISIÓN: {'RECHAZAR H0' if reject_h0 else 'NO RECHAZAR H0'}\")\n",
    "\n",
    "if reject_h0:\n",
    "    direction = \"MAYOR\" if waiting_times_high.mean() > waiting_times_low.mean() else \"MENOR\"\n",
    "    print(f\"\\nCONCLUSIÓN:\")\n",
    "    print(f\"Existe evidencia estadísticamente significativa (p={p_value:.6f}) de que\")\n",
    "    print(f\"los operadores con ALTA tasa de llamadas perdidas tienen un tiempo de\")\n",
    "    print(f\"espera promedio significativamente {direction} que los operadores con\")\n",
    "    print(f\"BAJA tasa de llamadas perdidas.\")\n",
    "else:\n",
    "    print(f\"\\nCONCLUSIÓN:\")\n",
    "    print(f\"No existe evidencia estadísticamente significativa (p={p_value:.6f}) de\")\n",
    "    print(f\"diferencia en los tiempos de espera promedio entre operadores con alta\")\n",
    "    print(f\"y baja tasa de llamadas perdidas.\")"
   ]
  },
  {
   "cell_type": "markdown",
   "id": "9ea40d72",
   "metadata": {},
   "source": [
    "**CONCLUSIONES FINALES**\n",
    "\n",
    "En el análisis, se abordó la pregunta de si existre o no diferencia significativa en los tiempos de espera de los ususarios entre operadores con alta y baja cantidad de llamadas perdidas.Para esto, se siguieron los pasos de la estadística 9inferencial, asegurando la validez de las comparaciones y la interpretacion de los datos.\n",
    "\n",
    "1- Se agruparon los operadores en funcion de su tasa de llamadas perdidas, utilizando cuartiles de distribucion para definir los grupos de alta y baja tasa.Este criterio, que se basa en la dispersion natural de los datos, permitió comparar los extremos de desempeño y garantizar que las diferencias observadas fueran relevantes,\n",
    "\n",
    "2- Antes de aplicr la prueba t para comparar las medias,  se comprobó en primer lugar la homogeneneidad de las varianzas mediante Levene.Este test arroja que, en efecto existe homogeneidad entre las medias pues el p-value fue mucho mayor a 0.05.\n",
    "También n se verificó que ambos grupos tuvieran un tamaño de muestra suficiente para poder suponer que la distribución de la media es aproximadamente normal.\n",
    "\n",
    "3- Respecto a la prueba de hipótesis,se rechaza la hipótesis nula, concluyendo que existe una diferencia estadísticamente significativa en los tiempos de espera promedio entre operadores con alta y baja tasa de llamadas perdidas.\n",
    "Si el tiempo de espera fue mayor o menos, se determinó comparando las medias de ambos grupos. En la mayoría de lo casos os operadores con mayor tasa de llamadas perdidas presentaron también tiempos de espera promedio más elevados, los operadores con mayor tasa de llamadas perdidas presentaron también tiempos de espera en promedio más elevados, lo que sugiere relación directa entre la eficiencia operativa y la experiencia del usuario.\n",
    "\n",
    "4- Los resultados evidencian que la tasa de llamadas perdidas es un buen indicador de eficiencia operadiva, ya que se asocia de manera significativa con los tiempos de espera experimentados por los usuarios.\n",
    "En este caso se recomienda en primer lugar, monitorear y reducir la tasa de llamadas perdidas como estrategia para mejorar los tiempos de espera y con esto, la satisafacción del cliente.\n",
    "Además, se recomienda utilizar la segmentación por cuartiles para identificar y priorizar intervenciones en operadores menos eficientes.\n",
    "\n",
    "5- El análisis fue basado en la segmentación por cuartiles y en operadores con al menos 30 llamadas; esto garantiza robustez pero puede dejar fuera operadores con poca actividad y pudiesen ser monitoreados respecto de su eficiencia también.\n",
    "\n",
    "\n",
    "Resumiendo, el estudio proporciona evidencia estadística sólida de que los operadores con más llamadas perdidas tienden a generar mayores tiempos de espera, lo que justifica la utilización de la tasa de llamadas perdidas como métrica clave de gestión y mejora en el desempeño de los operadores de call center."
   ]
  },
  {
   "cell_type": "markdown",
   "id": "d3e02f4c",
   "metadata": {},
   "source": [
    "**LINK A PDF Y DASHBOARD**\n",
    "\n",
    "\n",
    "https://drive.google.com/drive/folders/1LndAnpX0oQG5eqHc7VTq5qw33NuCjgeA?usp=drive_link"
   ]
  }
 ],
 "metadata": {
  "kernelspec": {
   "display_name": "Python 3",
   "language": "python",
   "name": "python3"
  },
  "language_info": {
   "codemirror_mode": {
    "name": "ipython",
    "version": 3
   },
   "file_extension": ".py",
   "mimetype": "text/x-python",
   "name": "python",
   "nbconvert_exporter": "python",
   "pygments_lexer": "ipython3",
   "version": "3.11.9"
  }
 },
 "nbformat": 4,
 "nbformat_minor": 5
}
